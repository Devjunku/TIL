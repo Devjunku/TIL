{
 "cells": [
  {
   "cell_type": "code",
   "execution_count": 44,
   "id": "e3b47d9f",
   "metadata": {
    "scrolled": true
   },
   "outputs": [],
   "source": [
    "library(ROSE)\n",
    "library(dplyr)\n",
    "library(caret)\n",
    "library(ROCR)"
   ]
  },
  {
   "cell_type": "code",
   "execution_count": 19,
   "id": "df2da455",
   "metadata": {},
   "outputs": [],
   "source": [
    "data(hacide)"
   ]
  },
  {
   "cell_type": "code",
   "execution_count": 26,
   "id": "25f8e0b3",
   "metadata": {},
   "outputs": [
    {
     "data": {
      "text/plain": [
       " cls           x1                 x2          \n",
       " 0:980   Min.   :-3.73468   Min.   :-3.17886  \n",
       " 1: 20   1st Qu.:-0.39539   1st Qu.:-0.78564  \n",
       "         Median :-0.03025   Median :-0.06871  \n",
       "         Mean   :-0.03185   Mean   :-0.06603  \n",
       "         3rd Qu.: 0.35474   3rd Qu.: 0.69454  \n",
       "         Max.   : 1.98859   Max.   : 3.03422  "
      ]
     },
     "metadata": {},
     "output_type": "display_data"
    },
    {
     "name": "stdout",
     "output_type": "stream",
     "text": [
      "'data.frame':\t250 obs. of  3 variables:\n",
      " $ cls: Factor w/ 2 levels \"0\",\"1\": 1 1 1 1 1 1 1 1 1 1 ...\n",
      " $ x1 : num  0.0556 -0.7453 -0.1849 -0.98 0.1063 ...\n",
      " $ x2 : num  2.0987 -2.849 0.3807 0.0189 0.9021 ...\n"
     ]
    }
   ],
   "source": [
    "summary(hacide.train)\n",
    "str(hacide.test)"
   ]
  },
  {
   "cell_type": "code",
   "execution_count": 75,
   "id": "b6f2ff97",
   "metadata": {},
   "outputs": [],
   "source": [
    "over = ovun.sample(cls~., data=hacide.train, N=1000, p=0.5)$data\n",
    "under = ovun.sample(cls~., data=hacide.train, N=1000, p=0.5)$data\n",
    "both = ovun.sample(cls~., data=hacide.train, N=1000, p=0.5)$data\n",
    "rose = ROSE(cls~., data=hacide.train)$data"
   ]
  },
  {
   "cell_type": "code",
   "execution_count": 68,
   "id": "5f68b5de",
   "metadata": {},
   "outputs": [],
   "source": [
    "over_glm = glm(cls~., data=over, family=\"binomial\")\n",
    "under_glm = glm(cls~., data=under, family=\"binomial\")\n",
    "both_glm = glm(cls~., data=both, family=\"binomial\")\n",
    "rose_glm = glm(cls~., data=rose, family=\"binomial\")"
   ]
  },
  {
   "cell_type": "code",
   "execution_count": 69,
   "id": "7c71c553",
   "metadata": {},
   "outputs": [],
   "source": [
    "res_over = predict(over_glm, hacide.test, type=\"response\")\n",
    "res_under = predict(under_glm, hacide.test, type=\"response\")\n",
    "res_both = predict(both_glm, hacide.test, type=\"response\")\n",
    "res_rose = predict(rose_glm, hacide.test, type=\"response\")"
   ]
  },
  {
   "cell_type": "code",
   "execution_count": 70,
   "id": "b45dc7db",
   "metadata": {},
   "outputs": [],
   "source": [
    "res_over = ifelse(res_over >= 0.5, 1, 0)\n",
    "res_under = ifelse(res_under >= 0.5, 1, 0)\n",
    "res_both = ifelse(res_both >= 0.5, 1, 0)\n",
    "res_rose = ifelse(res_rose >= 0.5, 1, 0)"
   ]
  },
  {
   "cell_type": "code",
   "execution_count": 71,
   "id": "bfa69dda",
   "metadata": {},
   "outputs": [
    {
     "data": {
      "text/plain": [
       "Confusion Matrix and Statistics\n",
       "\n",
       "          Reference\n",
       "Prediction   0   1\n",
       "         0 211  34\n",
       "         1   1   4\n",
       "                                          \n",
       "               Accuracy : 0.86            \n",
       "                 95% CI : (0.8107, 0.9005)\n",
       "    No Information Rate : 0.848           \n",
       "    P-Value [Acc > NIR] : 0.3359          \n",
       "                                          \n",
       "                  Kappa : 0.1562          \n",
       "                                          \n",
       " Mcnemar's Test P-Value : 6.338e-08       \n",
       "                                          \n",
       "            Sensitivity : 0.9953          \n",
       "            Specificity : 0.1053          \n",
       "         Pos Pred Value : 0.8612          \n",
       "         Neg Pred Value : 0.8000          \n",
       "             Prevalence : 0.8480          \n",
       "         Detection Rate : 0.8440          \n",
       "   Detection Prevalence : 0.9800          \n",
       "      Balanced Accuracy : 0.5503          \n",
       "                                          \n",
       "       'Positive' Class : 0               \n",
       "                                          "
      ]
     },
     "metadata": {},
     "output_type": "display_data"
    },
    {
     "data": {
      "text/plain": [
       "Confusion Matrix and Statistics\n",
       "\n",
       "          Reference\n",
       "Prediction   0   1\n",
       "         0 211  34\n",
       "         1   1   4\n",
       "                                          \n",
       "               Accuracy : 0.86            \n",
       "                 95% CI : (0.8107, 0.9005)\n",
       "    No Information Rate : 0.848           \n",
       "    P-Value [Acc > NIR] : 0.3359          \n",
       "                                          \n",
       "                  Kappa : 0.1562          \n",
       "                                          \n",
       " Mcnemar's Test P-Value : 6.338e-08       \n",
       "                                          \n",
       "            Sensitivity : 0.9953          \n",
       "            Specificity : 0.1053          \n",
       "         Pos Pred Value : 0.8612          \n",
       "         Neg Pred Value : 0.8000          \n",
       "             Prevalence : 0.8480          \n",
       "         Detection Rate : 0.8440          \n",
       "   Detection Prevalence : 0.9800          \n",
       "      Balanced Accuracy : 0.5503          \n",
       "                                          \n",
       "       'Positive' Class : 0               \n",
       "                                          "
      ]
     },
     "metadata": {},
     "output_type": "display_data"
    },
    {
     "data": {
      "text/plain": [
       "Confusion Matrix and Statistics\n",
       "\n",
       "          Reference\n",
       "Prediction   0   1\n",
       "         0 208  37\n",
       "         1   1   4\n",
       "                                          \n",
       "               Accuracy : 0.848           \n",
       "                 95% CI : (0.7974, 0.8901)\n",
       "    No Information Rate : 0.836           \n",
       "    P-Value [Acc > NIR] : 0.3405          \n",
       "                                          \n",
       "                  Kappa : 0.1434          \n",
       "                                          \n",
       " Mcnemar's Test P-Value : 1.365e-08       \n",
       "                                          \n",
       "            Sensitivity : 0.99522         \n",
       "            Specificity : 0.09756         \n",
       "         Pos Pred Value : 0.84898         \n",
       "         Neg Pred Value : 0.80000         \n",
       "             Prevalence : 0.83600         \n",
       "         Detection Rate : 0.83200         \n",
       "   Detection Prevalence : 0.98000         \n",
       "      Balanced Accuracy : 0.54639         \n",
       "                                          \n",
       "       'Positive' Class : 0               \n",
       "                                          "
      ]
     },
     "metadata": {},
     "output_type": "display_data"
    },
    {
     "data": {
      "text/plain": [
       "Confusion Matrix and Statistics\n",
       "\n",
       "          Reference\n",
       "Prediction   0   1\n",
       "         0 211  34\n",
       "         1   1   4\n",
       "                                          \n",
       "               Accuracy : 0.86            \n",
       "                 95% CI : (0.8107, 0.9005)\n",
       "    No Information Rate : 0.848           \n",
       "    P-Value [Acc > NIR] : 0.3359          \n",
       "                                          \n",
       "                  Kappa : 0.1562          \n",
       "                                          \n",
       " Mcnemar's Test P-Value : 6.338e-08       \n",
       "                                          \n",
       "            Sensitivity : 0.9953          \n",
       "            Specificity : 0.1053          \n",
       "         Pos Pred Value : 0.8612          \n",
       "         Neg Pred Value : 0.8000          \n",
       "             Prevalence : 0.8480          \n",
       "         Detection Rate : 0.8440          \n",
       "   Detection Prevalence : 0.9800          \n",
       "      Balanced Accuracy : 0.5503          \n",
       "                                          \n",
       "       'Positive' Class : 0               \n",
       "                                          "
      ]
     },
     "metadata": {},
     "output_type": "display_data"
    }
   ],
   "source": [
    "confusionMatrix(hacide.test$cls, factor(res_over))\n",
    "confusionMatrix(hacide.test$cls, factor(res_under))\n",
    "confusionMatrix(hacide.test$cls, factor(res_both))\n",
    "confusionMatrix(hacide.test$cls, factor(res_rose))"
   ]
  },
  {
   "cell_type": "markdown",
   "id": "6197b83e",
   "metadata": {},
   "source": [
    "# 딱히 좋아지는 모습은 없음\n",
    "- 로지스틱이 아닌 다른 모형도 진행해봐야겠음"
   ]
  },
  {
   "cell_type": "code",
   "execution_count": 73,
   "id": "68935d22",
   "metadata": {},
   "outputs": [],
   "source": [
    "library(rpart)"
   ]
  },
  {
   "cell_type": "code",
   "execution_count": 76,
   "id": "5c2ab3fa",
   "metadata": {},
   "outputs": [],
   "source": [
    "over_tree = rpart(cls~., data=over)\n",
    "under_tree = rpart(cls~., data=under)\n",
    "both_tree = rpart(cls~., data=both)\n",
    "rose_tree = rpart(cls~., data=rose)"
   ]
  },
  {
   "cell_type": "code",
   "execution_count": 78,
   "id": "feb30191",
   "metadata": {},
   "outputs": [],
   "source": [
    "tree_over = predict(over_tree, hacide.test, type=\"class\")\n",
    "tree_under = predict(under_tree, hacide.test, type=\"class\")\n",
    "tree_both = predict(both_tree, hacide.test, type=\"class\")\n",
    "tree_rose = predict(rose_tree, hacide.test, type=\"class\")"
   ]
  },
  {
   "cell_type": "code",
   "execution_count": 80,
   "id": "26bb433e",
   "metadata": {},
   "outputs": [
    {
     "data": {
      "text/plain": [
       "Confusion Matrix and Statistics\n",
       "\n",
       "          Reference\n",
       "Prediction   0   1\n",
       "         0 243   2\n",
       "         1   2   3\n",
       "                                          \n",
       "               Accuracy : 0.984           \n",
       "                 95% CI : (0.9595, 0.9956)\n",
       "    No Information Rate : 0.98            \n",
       "    P-Value [Acc > NIR] : 0.4387          \n",
       "                                          \n",
       "                  Kappa : 0.5918          \n",
       "                                          \n",
       " Mcnemar's Test P-Value : 1.0000          \n",
       "                                          \n",
       "            Sensitivity : 0.9918          \n",
       "            Specificity : 0.6000          \n",
       "         Pos Pred Value : 0.9918          \n",
       "         Neg Pred Value : 0.6000          \n",
       "             Prevalence : 0.9800          \n",
       "         Detection Rate : 0.9720          \n",
       "   Detection Prevalence : 0.9800          \n",
       "      Balanced Accuracy : 0.7959          \n",
       "                                          \n",
       "       'Positive' Class : 0               \n",
       "                                          "
      ]
     },
     "metadata": {},
     "output_type": "display_data"
    },
    {
     "data": {
      "text/plain": [
       "Confusion Matrix and Statistics\n",
       "\n",
       "          Reference\n",
       "Prediction   0   1\n",
       "         0 243   2\n",
       "         1   2   3\n",
       "                                          \n",
       "               Accuracy : 0.984           \n",
       "                 95% CI : (0.9595, 0.9956)\n",
       "    No Information Rate : 0.98            \n",
       "    P-Value [Acc > NIR] : 0.4387          \n",
       "                                          \n",
       "                  Kappa : 0.5918          \n",
       "                                          \n",
       " Mcnemar's Test P-Value : 1.0000          \n",
       "                                          \n",
       "            Sensitivity : 0.9918          \n",
       "            Specificity : 0.6000          \n",
       "         Pos Pred Value : 0.9918          \n",
       "         Neg Pred Value : 0.6000          \n",
       "             Prevalence : 0.9800          \n",
       "         Detection Rate : 0.9720          \n",
       "   Detection Prevalence : 0.9800          \n",
       "      Balanced Accuracy : 0.7959          \n",
       "                                          \n",
       "       'Positive' Class : 0               \n",
       "                                          "
      ]
     },
     "metadata": {},
     "output_type": "display_data"
    },
    {
     "data": {
      "text/plain": [
       "Confusion Matrix and Statistics\n",
       "\n",
       "          Reference\n",
       "Prediction   0   1\n",
       "         0 243   2\n",
       "         1   2   3\n",
       "                                          \n",
       "               Accuracy : 0.984           \n",
       "                 95% CI : (0.9595, 0.9956)\n",
       "    No Information Rate : 0.98            \n",
       "    P-Value [Acc > NIR] : 0.4387          \n",
       "                                          \n",
       "                  Kappa : 0.5918          \n",
       "                                          \n",
       " Mcnemar's Test P-Value : 1.0000          \n",
       "                                          \n",
       "            Sensitivity : 0.9918          \n",
       "            Specificity : 0.6000          \n",
       "         Pos Pred Value : 0.9918          \n",
       "         Neg Pred Value : 0.6000          \n",
       "             Prevalence : 0.9800          \n",
       "         Detection Rate : 0.9720          \n",
       "   Detection Prevalence : 0.9800          \n",
       "      Balanced Accuracy : 0.7959          \n",
       "                                          \n",
       "       'Positive' Class : 0               \n",
       "                                          "
      ]
     },
     "metadata": {},
     "output_type": "display_data"
    },
    {
     "data": {
      "text/plain": [
       "Confusion Matrix and Statistics\n",
       "\n",
       "          Reference\n",
       "Prediction   0   1\n",
       "         0 232  13\n",
       "         1   0   5\n",
       "                                         \n",
       "               Accuracy : 0.948          \n",
       "                 95% CI : (0.9127, 0.972)\n",
       "    No Information Rate : 0.928          \n",
       "    P-Value [Acc > NIR] : 0.1331906      \n",
       "                                         \n",
       "                  Kappa : 0.4165         \n",
       "                                         \n",
       " Mcnemar's Test P-Value : 0.0008741      \n",
       "                                         \n",
       "            Sensitivity : 1.0000         \n",
       "            Specificity : 0.2778         \n",
       "         Pos Pred Value : 0.9469         \n",
       "         Neg Pred Value : 1.0000         \n",
       "             Prevalence : 0.9280         \n",
       "         Detection Rate : 0.9280         \n",
       "   Detection Prevalence : 0.9800         \n",
       "      Balanced Accuracy : 0.6389         \n",
       "                                         \n",
       "       'Positive' Class : 0              \n",
       "                                         "
      ]
     },
     "metadata": {},
     "output_type": "display_data"
    }
   ],
   "source": [
    "confusionMatrix(hacide.test$cls, factor(tree_over))\n",
    "confusionMatrix(hacide.test$cls, factor(tree_under))\n",
    "confusionMatrix(hacide.test$cls, factor(tree_both))\n",
    "confusionMatrix(hacide.test$cls, factor(tree_rose))"
   ]
  },
  {
   "cell_type": "markdown",
   "id": "5e0047c8",
   "metadata": {},
   "source": [
    "## 나무모형의 경우 많이 좋아진것을 확인할 수 있음.\n",
    "- 랜덤포레스트를 진행해봐야겠다."
   ]
  },
  {
   "cell_type": "code",
   "execution_count": 81,
   "id": "2da48fc0",
   "metadata": {},
   "outputs": [
    {
     "name": "stderr",
     "output_type": "stream",
     "text": [
      "randomForest 4.6-14\n",
      "\n",
      "Type rfNews() to see new features/changes/bug fixes.\n",
      "\n",
      "\n",
      "다음의 패키지를 부착합니다: ‘randomForest’\n",
      "\n",
      "\n",
      "The following object is masked from ‘package:ggplot2’:\n",
      "\n",
      "    margin\n",
      "\n",
      "\n",
      "The following object is masked from ‘package:dplyr’:\n",
      "\n",
      "    combine\n",
      "\n",
      "\n"
     ]
    }
   ],
   "source": [
    "# 랜덤포레스트\n",
    "library(randomForest)"
   ]
  },
  {
   "cell_type": "code",
   "execution_count": 82,
   "id": "90d361c5",
   "metadata": {},
   "outputs": [],
   "source": [
    "over_rf = randomForest(cls~., data=over, ntree=50)\n",
    "under_rf = randomForest(cls~., data=under, ntree=50)\n",
    "both_rf = randomForest(cls~., data=both, ntree=50)\n",
    "rose_rf = randomForest(cls~., data=rose, ntree=50)"
   ]
  },
  {
   "cell_type": "code",
   "execution_count": 83,
   "id": "7f533ef2",
   "metadata": {},
   "outputs": [],
   "source": [
    "rf_over = predict(over_rf, hacide.test, type=\"class\")\n",
    "rf_under = predict(under_rf, hacide.test, type=\"class\")\n",
    "rf_both = predict(both_rf, hacide.test, type=\"class\")\n",
    "rf_rose = predict(rose_rf, hacide.test, type=\"class\")"
   ]
  },
  {
   "cell_type": "code",
   "execution_count": 85,
   "id": "b53be751",
   "metadata": {},
   "outputs": [
    {
     "data": {
      "text/plain": [
       "Confusion Matrix and Statistics\n",
       "\n",
       "          Reference\n",
       "Prediction   0   1\n",
       "         0 244   1\n",
       "         1   2   3\n",
       "                                          \n",
       "               Accuracy : 0.988           \n",
       "                 95% CI : (0.9653, 0.9975)\n",
       "    No Information Rate : 0.984           \n",
       "    P-Value [Acc > NIR] : 0.4319          \n",
       "                                          \n",
       "                  Kappa : 0.6606          \n",
       "                                          \n",
       " Mcnemar's Test P-Value : 1.0000          \n",
       "                                          \n",
       "            Sensitivity : 0.9919          \n",
       "            Specificity : 0.7500          \n",
       "         Pos Pred Value : 0.9959          \n",
       "         Neg Pred Value : 0.6000          \n",
       "             Prevalence : 0.9840          \n",
       "         Detection Rate : 0.9760          \n",
       "   Detection Prevalence : 0.9800          \n",
       "      Balanced Accuracy : 0.8709          \n",
       "                                          \n",
       "       'Positive' Class : 0               \n",
       "                                          "
      ]
     },
     "metadata": {},
     "output_type": "display_data"
    },
    {
     "data": {
      "text/plain": [
       "Confusion Matrix and Statistics\n",
       "\n",
       "          Reference\n",
       "Prediction   0   1\n",
       "         0 244   1\n",
       "         1   2   3\n",
       "                                          \n",
       "               Accuracy : 0.988           \n",
       "                 95% CI : (0.9653, 0.9975)\n",
       "    No Information Rate : 0.984           \n",
       "    P-Value [Acc > NIR] : 0.4319          \n",
       "                                          \n",
       "                  Kappa : 0.6606          \n",
       "                                          \n",
       " Mcnemar's Test P-Value : 1.0000          \n",
       "                                          \n",
       "            Sensitivity : 0.9919          \n",
       "            Specificity : 0.7500          \n",
       "         Pos Pred Value : 0.9959          \n",
       "         Neg Pred Value : 0.6000          \n",
       "             Prevalence : 0.9840          \n",
       "         Detection Rate : 0.9760          \n",
       "   Detection Prevalence : 0.9800          \n",
       "      Balanced Accuracy : 0.8709          \n",
       "                                          \n",
       "       'Positive' Class : 0               \n",
       "                                          "
      ]
     },
     "metadata": {},
     "output_type": "display_data"
    },
    {
     "data": {
      "text/plain": [
       "Confusion Matrix and Statistics\n",
       "\n",
       "          Reference\n",
       "Prediction   0   1\n",
       "         0 244   1\n",
       "         1   2   3\n",
       "                                          \n",
       "               Accuracy : 0.988           \n",
       "                 95% CI : (0.9653, 0.9975)\n",
       "    No Information Rate : 0.984           \n",
       "    P-Value [Acc > NIR] : 0.4319          \n",
       "                                          \n",
       "                  Kappa : 0.6606          \n",
       "                                          \n",
       " Mcnemar's Test P-Value : 1.0000          \n",
       "                                          \n",
       "            Sensitivity : 0.9919          \n",
       "            Specificity : 0.7500          \n",
       "         Pos Pred Value : 0.9959          \n",
       "         Neg Pred Value : 0.6000          \n",
       "             Prevalence : 0.9840          \n",
       "         Detection Rate : 0.9760          \n",
       "   Detection Prevalence : 0.9800          \n",
       "      Balanced Accuracy : 0.8709          \n",
       "                                          \n",
       "       'Positive' Class : 0               \n",
       "                                          "
      ]
     },
     "metadata": {},
     "output_type": "display_data"
    },
    {
     "data": {
      "text/plain": [
       "Confusion Matrix and Statistics\n",
       "\n",
       "          Reference\n",
       "Prediction   0   1\n",
       "         0 228  17\n",
       "         1   1   4\n",
       "                                          \n",
       "               Accuracy : 0.928           \n",
       "                 95% CI : (0.8886, 0.9568)\n",
       "    No Information Rate : 0.916           \n",
       "    P-Value [Acc > NIR] : 0.291776        \n",
       "                                          \n",
       "                  Kappa : 0.2846          \n",
       "                                          \n",
       " Mcnemar's Test P-Value : 0.000407        \n",
       "                                          \n",
       "            Sensitivity : 0.9956          \n",
       "            Specificity : 0.1905          \n",
       "         Pos Pred Value : 0.9306          \n",
       "         Neg Pred Value : 0.8000          \n",
       "             Prevalence : 0.9160          \n",
       "         Detection Rate : 0.9120          \n",
       "   Detection Prevalence : 0.9800          \n",
       "      Balanced Accuracy : 0.5931          \n",
       "                                          \n",
       "       'Positive' Class : 0               \n",
       "                                          "
      ]
     },
     "metadata": {},
     "output_type": "display_data"
    }
   ],
   "source": [
    "confusionMatrix(hacide.test$cls, factor(rf_over))\n",
    "confusionMatrix(hacide.test$cls, factor(rf_under))\n",
    "confusionMatrix(hacide.test$cls, factor(rf_both))\n",
    "confusionMatrix(hacide.test$cls, factor(rf_rose))"
   ]
  },
  {
   "cell_type": "markdown",
   "id": "3322582d",
   "metadata": {},
   "source": [
    "## 확실한건 나무모형보다 더 좋은 성과를 내고 있음 1개를 더 맞추게됨. 근데 여기서 rose의 성과가 계속 없음\n",
    "- svm도 진행해야겠다"
   ]
  },
  {
   "cell_type": "code",
   "execution_count": 27,
   "id": "1e6f4465",
   "metadata": {},
   "outputs": [],
   "source": [
    "# SVM\n",
    "library(e1071)"
   ]
  },
  {
   "cell_type": "code",
   "execution_count": 28,
   "id": "7a9b07c3",
   "metadata": {},
   "outputs": [
    {
     "data": {
      "text/plain": [
       "\n",
       "Parameter tuning of ‘svm’:\n",
       "\n",
       "- sampling method: 10-fold cross validation \n",
       "\n",
       "- best parameters:\n",
       " gamma cost\n",
       "   0.1  100\n",
       "\n",
       "- best performance: 0.0115 \n"
      ]
     },
     "metadata": {},
     "output_type": "display_data"
    },
    {
     "data": {
      "text/plain": [
       "\n",
       "Parameter tuning of ‘svm’:\n",
       "\n",
       "- sampling method: 10-fold cross validation \n",
       "\n",
       "- best parameters:\n",
       " gamma cost\n",
       "   0.1  100\n",
       "\n",
       "- best performance: 0.0115 \n"
      ]
     },
     "metadata": {},
     "output_type": "display_data"
    },
    {
     "data": {
      "text/plain": [
       "\n",
       "Parameter tuning of ‘svm’:\n",
       "\n",
       "- sampling method: 10-fold cross validation \n",
       "\n",
       "- best parameters:\n",
       " gamma cost\n",
       "   0.1  100\n",
       "\n",
       "- best performance: 0.0105 \n"
      ]
     },
     "metadata": {},
     "output_type": "display_data"
    },
    {
     "data": {
      "text/plain": [
       "\n",
       "Parameter tuning of ‘svm’:\n",
       "\n",
       "- sampling method: 10-fold cross validation \n",
       "\n",
       "- best parameters:\n",
       " gamma cost\n",
       "   0.1  100\n",
       "\n",
       "- best performance: 0.085 \n"
      ]
     },
     "metadata": {},
     "output_type": "display_data"
    }
   ],
   "source": [
    "tune.svm(cls~., data=over, gamma=10^(-6:-1), cost=10^(1:2))\n",
    "tune.svm(cls~., data=under, gamma=10^(-6:-1), cost=10^(1:2))\n",
    "tune.svm(cls~., data=both, gamma=10^(-6:-1), cost=10^(1:2))\n",
    "tune.svm(cls~., data=rose, gamma=10^(-6:-1), cost=10^(1:2))"
   ]
  },
  {
   "cell_type": "code",
   "execution_count": 29,
   "id": "49b83c36",
   "metadata": {},
   "outputs": [],
   "source": [
    "svm_over = svm(cls~., data=over, gamma=0.1, cost=100)\n",
    "svm_under = svm(cls~., data=under, gamma=0.1, cost=100)\n",
    "svm_both = svm(cls~., data=both, gamma=0.1, cost=100)\n",
    "svm_rose = svm(cls~., data=rose, gamma=0.1, cost=100)"
   ]
  },
  {
   "cell_type": "code",
   "execution_count": 30,
   "id": "b05c7fbb",
   "metadata": {},
   "outputs": [],
   "source": [
    "svm_pred_over = predict(svm_over, hacide.test, type=\"class\")\n",
    "svm_pred_under = predict(svm_under, hacide.test, type=\"class\")\n",
    "svm_pred_both = predict(svm_both, hacide.test, type=\"class\")\n",
    "svm_pred_rose = predict(svm_rose, hacide.test, type=\"class\")"
   ]
  },
  {
   "cell_type": "code",
   "execution_count": 31,
   "id": "cc23ae1f",
   "metadata": {},
   "outputs": [
    {
     "data": {
      "text/plain": [
       "Confusion Matrix and Statistics\n",
       "\n",
       "          Reference\n",
       "Prediction   0   1\n",
       "         0 242   3\n",
       "         1   1   4\n",
       "                                          \n",
       "               Accuracy : 0.984           \n",
       "                 95% CI : (0.9595, 0.9956)\n",
       "    No Information Rate : 0.972           \n",
       "    P-Value [Acc > NIR] : 0.1691          \n",
       "                                          \n",
       "                  Kappa : 0.6587          \n",
       "                                          \n",
       " Mcnemar's Test P-Value : 0.6171          \n",
       "                                          \n",
       "            Sensitivity : 0.9959          \n",
       "            Specificity : 0.5714          \n",
       "         Pos Pred Value : 0.9878          \n",
       "         Neg Pred Value : 0.8000          \n",
       "             Prevalence : 0.9720          \n",
       "         Detection Rate : 0.9680          \n",
       "   Detection Prevalence : 0.9800          \n",
       "      Balanced Accuracy : 0.7837          \n",
       "                                          \n",
       "       'Positive' Class : 0               \n",
       "                                          "
      ]
     },
     "metadata": {},
     "output_type": "display_data"
    },
    {
     "data": {
      "text/plain": [
       "Confusion Matrix and Statistics\n",
       "\n",
       "          Reference\n",
       "Prediction   0   1\n",
       "         0 243   2\n",
       "         1   1   4\n",
       "                                          \n",
       "               Accuracy : 0.988           \n",
       "                 95% CI : (0.9653, 0.9975)\n",
       "    No Information Rate : 0.976           \n",
       "    P-Value [Acc > NIR] : 0.148           \n",
       "                                          \n",
       "                  Kappa : 0.7212          \n",
       "                                          \n",
       " Mcnemar's Test P-Value : 1.000           \n",
       "                                          \n",
       "            Sensitivity : 0.9959          \n",
       "            Specificity : 0.6667          \n",
       "         Pos Pred Value : 0.9918          \n",
       "         Neg Pred Value : 0.8000          \n",
       "             Prevalence : 0.9760          \n",
       "         Detection Rate : 0.9720          \n",
       "   Detection Prevalence : 0.9800          \n",
       "      Balanced Accuracy : 0.8313          \n",
       "                                          \n",
       "       'Positive' Class : 0               \n",
       "                                          "
      ]
     },
     "metadata": {},
     "output_type": "display_data"
    },
    {
     "data": {
      "text/plain": [
       "Confusion Matrix and Statistics\n",
       "\n",
       "          Reference\n",
       "Prediction   0   1\n",
       "         0 242   3\n",
       "         1   1   4\n",
       "                                          \n",
       "               Accuracy : 0.984           \n",
       "                 95% CI : (0.9595, 0.9956)\n",
       "    No Information Rate : 0.972           \n",
       "    P-Value [Acc > NIR] : 0.1691          \n",
       "                                          \n",
       "                  Kappa : 0.6587          \n",
       "                                          \n",
       " Mcnemar's Test P-Value : 0.6171          \n",
       "                                          \n",
       "            Sensitivity : 0.9959          \n",
       "            Specificity : 0.5714          \n",
       "         Pos Pred Value : 0.9878          \n",
       "         Neg Pred Value : 0.8000          \n",
       "             Prevalence : 0.9720          \n",
       "         Detection Rate : 0.9680          \n",
       "   Detection Prevalence : 0.9800          \n",
       "      Balanced Accuracy : 0.7837          \n",
       "                                          \n",
       "       'Positive' Class : 0               \n",
       "                                          "
      ]
     },
     "metadata": {},
     "output_type": "display_data"
    },
    {
     "data": {
      "text/plain": [
       "Confusion Matrix and Statistics\n",
       "\n",
       "          Reference\n",
       "Prediction   0   1\n",
       "         0 236   9\n",
       "         1   0   5\n",
       "                                          \n",
       "               Accuracy : 0.964           \n",
       "                 95% CI : (0.9328, 0.9834)\n",
       "    No Information Rate : 0.944           \n",
       "    P-Value [Acc > NIR] : 0.102677        \n",
       "                                          \n",
       "                  Kappa : 0.5119          \n",
       "                                          \n",
       " Mcnemar's Test P-Value : 0.007661        \n",
       "                                          \n",
       "            Sensitivity : 1.0000          \n",
       "            Specificity : 0.3571          \n",
       "         Pos Pred Value : 0.9633          \n",
       "         Neg Pred Value : 1.0000          \n",
       "             Prevalence : 0.9440          \n",
       "         Detection Rate : 0.9440          \n",
       "   Detection Prevalence : 0.9800          \n",
       "      Balanced Accuracy : 0.6786          \n",
       "                                          \n",
       "       'Positive' Class : 0               \n",
       "                                          "
      ]
     },
     "metadata": {},
     "output_type": "display_data"
    }
   ],
   "source": [
    "confusionMatrix(hacide.test$cls, factor(svm_pred_over))\n",
    "confusionMatrix(hacide.test$cls, factor(svm_pred_under))\n",
    "confusionMatrix(hacide.test$cls, factor(svm_pred_both))\n",
    "confusionMatrix(hacide.test$cls, factor(svm_pred_rose))"
   ]
  },
  {
   "cell_type": "markdown",
   "id": "6aabe634",
   "metadata": {},
   "source": [
    "- 로지스틱보다는 좋지만, 그래도 나무 모형에 비해 좋은 성과는 나오지 않음\n",
    "- 간단한 인공신경망 모형을 사용해보자."
   ]
  },
  {
   "cell_type": "code",
   "execution_count": 96,
   "id": "5bbbf42f",
   "metadata": {},
   "outputs": [],
   "source": [
    "library(nnet)"
   ]
  },
  {
   "cell_type": "code",
   "execution_count": 97,
   "id": "033a7f4b",
   "metadata": {},
   "outputs": [
    {
     "name": "stdout",
     "output_type": "stream",
     "text": [
      "# weights:  9\n",
      "initial  value 738.873222 \n",
      "iter  10 value 359.351870\n",
      "iter  20 value 286.289543\n",
      "iter  30 value 237.050789\n",
      "iter  40 value 218.236413\n",
      "iter  50 value 216.684749\n",
      "iter  60 value 216.536923\n",
      "iter  70 value 216.345198\n",
      "iter  80 value 141.035307\n",
      "iter  90 value 102.017226\n",
      "iter 100 value 99.015737\n",
      "iter 110 value 98.358552\n",
      "iter 120 value 98.267352\n",
      "iter 130 value 98.225610\n",
      "final  value 98.205308 \n",
      "converged\n",
      "# weights:  9\n",
      "initial  value 694.592099 \n",
      "iter  10 value 343.060539\n",
      "iter  20 value 306.940015\n",
      "iter  30 value 274.913201\n",
      "iter  40 value 219.803349\n",
      "iter  50 value 218.841092\n",
      "iter  60 value 141.498474\n",
      "iter  70 value 119.275560\n",
      "iter  80 value 118.345321\n",
      "iter  90 value 117.871860\n",
      "final  value 117.865434 \n",
      "converged\n",
      "# weights:  9\n",
      "initial  value 670.317077 \n",
      "iter  10 value 169.450917\n",
      "iter  20 value 78.215282\n",
      "iter  30 value 22.164502\n",
      "iter  40 value 12.398509\n",
      "iter  50 value 10.943059\n",
      "iter  60 value 10.660594\n",
      "iter  70 value 10.318353\n",
      "iter  80 value 10.274055\n",
      "iter  90 value 10.270875\n",
      "iter 100 value 10.270422\n",
      "iter 110 value 10.270367\n",
      "final  value 10.270365 \n",
      "converged\n",
      "# weights:  9\n",
      "initial  value 691.832318 \n",
      "iter  10 value 461.564692\n",
      "iter  20 value 322.123143\n",
      "iter  30 value 239.555589\n",
      "iter  40 value 190.455539\n",
      "iter  50 value 185.746839\n",
      "iter  60 value 184.309026\n",
      "iter  70 value 184.025010\n",
      "iter  80 value 183.707307\n",
      "iter  90 value 183.626836\n",
      "iter 100 value 183.619812\n",
      "iter 110 value 183.612395\n",
      "iter 120 value 183.607071\n",
      "iter 130 value 183.604153\n",
      "iter 140 value 183.603185\n",
      "iter 150 value 183.602836\n",
      "final  value 183.602747 \n",
      "converged\n"
     ]
    }
   ],
   "source": [
    "set.seed(1234)\n",
    "nn_over = nnet(cls~., data=over, size=2., maxit=200, decay=5e-04)\n",
    "nn_under = nnet(cls~., data=under, size=2., maxit=200, decay=5e-04)\n",
    "nn_both = nnet(cls~., data=both, size=2., maxit=200, decay=5e-04)\n",
    "nn_rose = nnet(cls~., data=rose, size=2., maxit=200, decay=5e-04)"
   ]
  },
  {
   "cell_type": "code",
   "execution_count": 99,
   "id": "b3171d74",
   "metadata": {},
   "outputs": [],
   "source": [
    "nn_pred_over=predict(nn_over, hacide.test, type=\"class\")\n",
    "nn_pred_under=predict(nn_under, hacide.test, type=\"class\")\n",
    "nn_pred_both=predict(nn_both, hacide.test, type=\"class\")\n",
    "nn_pred_rose=predict(nn_rose, hacide.test, type=\"class\")"
   ]
  },
  {
   "cell_type": "code",
   "execution_count": 100,
   "id": "a451f183",
   "metadata": {},
   "outputs": [
    {
     "data": {
      "text/plain": [
       "Confusion Matrix and Statistics\n",
       "\n",
       "          Reference\n",
       "Prediction   0   1\n",
       "         0 231  14\n",
       "         1   0   5\n",
       "                                         \n",
       "               Accuracy : 0.944          \n",
       "                 95% CI : (0.9078, 0.969)\n",
       "    No Information Rate : 0.924          \n",
       "    P-Value [Acc > NIR] : 0.139708       \n",
       "                                         \n",
       "                  Kappa : 0.3976         \n",
       "                                         \n",
       " Mcnemar's Test P-Value : 0.000512       \n",
       "                                         \n",
       "            Sensitivity : 1.0000         \n",
       "            Specificity : 0.2632         \n",
       "         Pos Pred Value : 0.9429         \n",
       "         Neg Pred Value : 1.0000         \n",
       "             Prevalence : 0.9240         \n",
       "         Detection Rate : 0.9240         \n",
       "   Detection Prevalence : 0.9800         \n",
       "      Balanced Accuracy : 0.6316         \n",
       "                                         \n",
       "       'Positive' Class : 0              \n",
       "                                         "
      ]
     },
     "metadata": {},
     "output_type": "display_data"
    },
    {
     "data": {
      "text/plain": [
       "Confusion Matrix and Statistics\n",
       "\n",
       "          Reference\n",
       "Prediction   0   1\n",
       "         0 231  14\n",
       "         1   0   5\n",
       "                                         \n",
       "               Accuracy : 0.944          \n",
       "                 95% CI : (0.9078, 0.969)\n",
       "    No Information Rate : 0.924          \n",
       "    P-Value [Acc > NIR] : 0.139708       \n",
       "                                         \n",
       "                  Kappa : 0.3976         \n",
       "                                         \n",
       " Mcnemar's Test P-Value : 0.000512       \n",
       "                                         \n",
       "            Sensitivity : 1.0000         \n",
       "            Specificity : 0.2632         \n",
       "         Pos Pred Value : 0.9429         \n",
       "         Neg Pred Value : 1.0000         \n",
       "             Prevalence : 0.9240         \n",
       "         Detection Rate : 0.9240         \n",
       "   Detection Prevalence : 0.9800         \n",
       "      Balanced Accuracy : 0.6316         \n",
       "                                         \n",
       "       'Positive' Class : 0              \n",
       "                                         "
      ]
     },
     "metadata": {},
     "output_type": "display_data"
    },
    {
     "data": {
      "text/plain": [
       "Confusion Matrix and Statistics\n",
       "\n",
       "          Reference\n",
       "Prediction   0   1\n",
       "         0 241   4\n",
       "         1   2   3\n",
       "                                          \n",
       "               Accuracy : 0.976           \n",
       "                 95% CI : (0.9485, 0.9911)\n",
       "    No Information Rate : 0.972           \n",
       "    P-Value [Acc > NIR] : 0.4476          \n",
       "                                          \n",
       "                  Kappa : 0.4881          \n",
       "                                          \n",
       " Mcnemar's Test P-Value : 0.6831          \n",
       "                                          \n",
       "            Sensitivity : 0.9918          \n",
       "            Specificity : 0.4286          \n",
       "         Pos Pred Value : 0.9837          \n",
       "         Neg Pred Value : 0.6000          \n",
       "             Prevalence : 0.9720          \n",
       "         Detection Rate : 0.9640          \n",
       "   Detection Prevalence : 0.9800          \n",
       "      Balanced Accuracy : 0.7102          \n",
       "                                          \n",
       "       'Positive' Class : 0               \n",
       "                                          "
      ]
     },
     "metadata": {},
     "output_type": "display_data"
    },
    {
     "data": {
      "text/plain": [
       "Confusion Matrix and Statistics\n",
       "\n",
       "          Reference\n",
       "Prediction   0   1\n",
       "         0 232  13\n",
       "         1   0   5\n",
       "                                         \n",
       "               Accuracy : 0.948          \n",
       "                 95% CI : (0.9127, 0.972)\n",
       "    No Information Rate : 0.928          \n",
       "    P-Value [Acc > NIR] : 0.1331906      \n",
       "                                         \n",
       "                  Kappa : 0.4165         \n",
       "                                         \n",
       " Mcnemar's Test P-Value : 0.0008741      \n",
       "                                         \n",
       "            Sensitivity : 1.0000         \n",
       "            Specificity : 0.2778         \n",
       "         Pos Pred Value : 0.9469         \n",
       "         Neg Pred Value : 1.0000         \n",
       "             Prevalence : 0.9280         \n",
       "         Detection Rate : 0.9280         \n",
       "   Detection Prevalence : 0.9800         \n",
       "      Balanced Accuracy : 0.6389         \n",
       "                                         \n",
       "       'Positive' Class : 0              \n",
       "                                         "
      ]
     },
     "metadata": {},
     "output_type": "display_data"
    }
   ],
   "source": [
    "confusionMatrix(hacide.test$cls, factor(nn_pred_over))\n",
    "confusionMatrix(hacide.test$cls, factor(nn_pred_under))\n",
    "confusionMatrix(hacide.test$cls, factor(nn_pred_both))\n",
    "confusionMatrix(hacide.test$cls, factor(nn_pred_rose))"
   ]
  },
  {
   "cell_type": "markdown",
   "id": "b5978a38",
   "metadata": {},
   "source": [
    "## 간단한 인공신명망도 성과가 그렇게 좋지 않았다.\n",
    "- 이제는 파이썬으로 옮기자.. R로 하니까 너무 큰 한계를 느낀다.\n",
    "- 맥 m1 사용중인데, 패키지 다운 안 되는 것도 크고 계속 뭔가 깔끔한 느낌이 안든다\n",
    "- 데이터분석 안하는 느낌이다..ㅠㅠ\n",
    "- 빨리 파이썬 데이터 분석을 익히자..!!"
   ]
  }
 ],
 "metadata": {
  "kernelspec": {
   "display_name": "R",
   "language": "R",
   "name": "ir"
  },
  "language_info": {
   "codemirror_mode": "r",
   "file_extension": ".r",
   "mimetype": "text/x-r-source",
   "name": "R",
   "pygments_lexer": "r",
   "version": "4.1.0"
  }
 },
 "nbformat": 4,
 "nbformat_minor": 5
}
